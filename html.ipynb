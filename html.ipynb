{
  "nbformat": 4,
  "nbformat_minor": 0,
  "metadata": {
    "colab": {
      "provenance": []
    },
    "kernelspec": {
      "name": "python3",
      "display_name": "Python 3"
    },
    "language_info": {
      "name": "python"
    }
  },
  "cells": [
    {
      "cell_type": "code",
      "execution_count": 1,
      "metadata": {
        "colab": {
          "base_uri": "https://localhost:8080/",
          "height": 100
        },
        "id": "jCepIIYhnWQb",
        "outputId": "8852a7ba-aab8-47de-965e-c95324458aef"
      },
      "outputs": [
        {
          "output_type": "display_data",
          "data": {
            "text/plain": [
              "<IPython.core.display.HTML object>"
            ],
            "text/html": [
              "<html>\n",
              "  <head>\n",
              "    <title>My HTML Page</title>\n",
              "  </head>\n",
              "  <body>\n",
              "    <h1>Hello World!</h1>\n",
              "    <p>This is my first HTML page.</p>\n",
              "  </body>\n",
              "</html>\n"
            ]
          },
          "metadata": {}
        }
      ],
      "source": [
        "%%html\n",
        "<html>\n",
        "  <head>\n",
        "    <title>My HTML Page</title>\n",
        "  </head>\n",
        "  <body>\n",
        "    <h1>Hello World!</h1>\n",
        "    <p>This is my first HTML page.</p>\n",
        "  </body>\n",
        "</html>"
      ]
    }
  ]
}